{
 "cells": [
  {
   "cell_type": "code",
   "execution_count": 9,
   "id": "48b0d8c4",
   "metadata": {},
   "outputs": [
    {
     "name": "stdout",
     "output_type": "stream",
     "text": [
      "Overwriting baiIII_t1.inp\n"
     ]
    }
   ],
   "source": [
    "%%writefile baiIII_t1.inp\n",
    "0 0 0"
   ]
  },
  {
   "cell_type": "code",
   "execution_count": 10,
   "id": "4e6e898b",
   "metadata": {},
   "outputs": [
    {
     "name": "stdout",
     "output_type": "stream",
     "text": [
      "Overwriting baiIII_t1.inp\n"
     ]
    }
   ],
   "source": [
    "%%writefile baiIII_t1.inp\n",
    "0 0 0"
   ]
  },
  {
   "cell_type": "code",
   "execution_count": 11,
   "id": "0afc8d21",
   "metadata": {},
   "outputs": [
    {
     "name": "stdout",
     "output_type": "stream",
     "text": [
      "Overwriting baiIII_t2.inp\n"
     ]
    }
   ],
   "source": [
    "%%writefile baiIII_t2.inp\n",
    "0 0 5"
   ]
  },
  {
   "cell_type": "code",
   "execution_count": 12,
   "id": "d9f5f54d",
   "metadata": {},
   "outputs": [
    {
     "name": "stdout",
     "output_type": "stream",
     "text": [
      "Overwriting baiIII_t3.inp\n"
     ]
    }
   ],
   "source": [
    "%%writefile baiIII_t3.inp\n",
    "0 2 -8"
   ]
  },
  {
   "cell_type": "code",
   "execution_count": 13,
   "id": "6326ff00",
   "metadata": {},
   "outputs": [
    {
     "name": "stdout",
     "output_type": "stream",
     "text": [
      "Overwriting baiIII_t4.inp\n"
     ]
    }
   ],
   "source": [
    "%%writefile baiIII_t4.inp\n",
    "1 0 -4"
   ]
  },
  {
   "cell_type": "code",
   "execution_count": 14,
   "id": "75d00819",
   "metadata": {},
   "outputs": [
    {
     "name": "stdout",
     "output_type": "stream",
     "text": [
      "Overwriting baiIII_t5.inp\n"
     ]
    }
   ],
   "source": [
    "%%writefile baiIII_t5.inp\n",
    "1 2 1"
   ]
  },
  {
   "cell_type": "code",
   "execution_count": 15,
   "id": "66b7b81d",
   "metadata": {},
   "outputs": [
    {
     "name": "stdout",
     "output_type": "stream",
     "text": [
      "Overwriting baiIII_t6.inp\n"
     ]
    }
   ],
   "source": [
    "%%writefile baiIII_t6.inp\n",
    "1 -5 4"
   ]
  },
  {
   "cell_type": "code",
   "execution_count": 16,
   "id": "90deed45",
   "metadata": {},
   "outputs": [
    {
     "name": "stdout",
     "output_type": "stream",
     "text": [
      "\"Expected: Infinite solutions\"\n",
      " Infinite solutions.\n",
      "\"Expected: No solutions\"\n",
      "No solution.\n",
      "\"Expected: 2 x = 2, -2\"\n",
      " The equation has 2 real solution(s): 2 -2 \n",
      "\"Expected: x = sprt(2), -sqr(2)\"\n",
      " The equation has 2 real solution(s): 1.41421 -1.41421 \n",
      "\"Expected: No solutions\"\n",
      "No solution.\n",
      "\"Expected: 4 x = 1, -1, 2, -2\"\n",
      " The equation has 4 real solution(s): 2 -2 1 -1 \n"
     ]
    }
   ],
   "source": [
    "!g++ III.cpp -o III\n",
    "!III < baiIII_t1.inp > baiIII_t1.out\n",
    "!III < baiIII_t2.inp > baiIII_t2.out\n",
    "!III < baiIII_t3.inp > baiIII_t3.out\n",
    "!III < baiIII_t4.inp > baiIII_t4.out\n",
    "!III < baiIII_t5.inp > baiIII_t5.out\n",
    "!III < baiIII_t6.inp > baiIII_t6.out\n",
    "!echo \"Expected: Infinite solutions\"\n",
    "!type baiIII_t1.out\n",
    "!echo \"Expected: No solutions\"\n",
    "!type baiIII_t2.out\n",
    "!echo \"Expected: 2 x = 2, -2\"\n",
    "!type baiIII_t3.out\n",
    "!echo \"Expected: x = sprt(2), -sqr(2)\"\n",
    "!type baiIII_t4.out\n",
    "!echo \"Expected: No solutions\"\n",
    "!type baiIII_t5.out\n",
    "!echo \"Expected: 4 x = 1, -1, 2, -2\"\n",
    "!type baiIII_t6.out"
   ]
  }
 ],
 "metadata": {
  "kernelspec": {
   "display_name": "Python 3",
   "language": "python",
   "name": "python3"
  },
  "language_info": {
   "codemirror_mode": {
    "name": "ipython",
    "version": 3
   },
   "file_extension": ".py",
   "mimetype": "text/x-python",
   "name": "python",
   "nbconvert_exporter": "python",
   "pygments_lexer": "ipython3",
   "version": "3.12.10"
  }
 },
 "nbformat": 4,
 "nbformat_minor": 5
}
