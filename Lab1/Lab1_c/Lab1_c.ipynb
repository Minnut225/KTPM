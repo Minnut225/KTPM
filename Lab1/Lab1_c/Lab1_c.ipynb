{
 "cells": [
  {
   "cell_type": "code",
   "execution_count": 1,
   "id": "892e3abb",
   "metadata": {},
   "outputs": [
    {
     "name": "stdout",
     "output_type": "stream",
     "text": [
      "Writing baic_t1.inp\n"
     ]
    }
   ],
   "source": [
    "%%writefile baic_t1.inp\n",
    "10"
   ]
  },
  {
   "cell_type": "code",
   "execution_count": 2,
   "id": "2f67dc6d",
   "metadata": {},
   "outputs": [
    {
     "name": "stdout",
     "output_type": "stream",
     "text": [
      "Writing baic_t2.inp\n"
     ]
    }
   ],
   "source": [
    "%%writefile baic_t2.inp\n",
    "2"
   ]
  },
  {
   "cell_type": "code",
   "execution_count": 3,
   "id": "ad5b8e03",
   "metadata": {},
   "outputs": [
    {
     "name": "stdout",
     "output_type": "stream",
     "text": [
      "Writing baic_t3.inp\n"
     ]
    }
   ],
   "source": [
    "%%writefile baic_t3.inp\n",
    "11"
   ]
  },
  {
   "cell_type": "code",
   "execution_count": 4,
   "id": "d81e0d74",
   "metadata": {},
   "outputs": [
    {
     "name": "stdout",
     "output_type": "stream",
     "text": [
      "Writing baic_t4.inp\n"
     ]
    }
   ],
   "source": [
    "%%writefile baic_t4.inp\n",
    "3"
   ]
  },
  {
   "cell_type": "code",
   "execution_count": 5,
   "id": "9bafd6e1",
   "metadata": {},
   "outputs": [
    {
     "name": "stdout",
     "output_type": "stream",
     "text": [
      "Writing baic_t5.inp\n"
     ]
    }
   ],
   "source": [
    "%%writefile baic_t5.inp\n",
    "-4"
   ]
  },
  {
   "cell_type": "code",
   "execution_count": 10,
   "id": "d4b4a707",
   "metadata": {},
   "outputs": [
    {
     "name": "stdout",
     "output_type": "stream",
     "text": [
      "\"Expected: 20\"\n",
      "20\n",
      "\"Expected: 4\"\n",
      "4\n",
      "\"Expected: 22\"\n",
      "22\n",
      "\"Expected: 6\"\n",
      "6\n",
      "\"Expected: 4\"\n",
      "-8\n"
     ]
    }
   ],
   "source": [
    "!g++ Lab1_c.cpp -o Lab1_c\n",
    "!Lab1_c < baic_t1.inp > baic_t1.out\n",
    "!Lab1_c < baic_t2.inp > baic_t2.out\n",
    "!Lab1_c < baic_t3.inp > baic_t3.out\n",
    "!Lab1_c < baic_t4.inp > baic_t4.out\n",
    "!Lab1_c < baic_t5.inp > baic_t5.out\n",
    "!echo \"Expected: 20\"\n",
    "!type baic_t1.out\n",
    "!echo \"Expected: 4\"\n",
    "!type baic_t2.out\n",
    "!echo \"Expected: 22\"\n",
    "!type baic_t3.out\n",
    "!echo \"Expected: 6\"\n",
    "!type baic_t4.out\n",
    "!echo \"Expected: 4\"\n",
    "!type baic_t5.out"
   ]
  }
 ],
 "metadata": {
  "kernelspec": {
   "display_name": "Python 3",
   "language": "python",
   "name": "python3"
  },
  "language_info": {
   "codemirror_mode": {
    "name": "ipython",
    "version": 3
   },
   "file_extension": ".py",
   "mimetype": "text/x-python",
   "name": "python",
   "nbconvert_exporter": "python",
   "pygments_lexer": "ipython3",
   "version": "3.12.10"
  }
 },
 "nbformat": 4,
 "nbformat_minor": 5
}
