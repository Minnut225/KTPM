{
 "cells": [
  {
   "cell_type": "code",
   "execution_count": 3,
   "id": "65d6c01e",
   "metadata": {},
   "outputs": [
    {
     "name": "stdout",
     "output_type": "stream",
     "text": [
      "Writing baib_t1.inp\n"
     ]
    }
   ],
   "source": [
    "%%writefile baib_t1.inp\n",
    "10"
   ]
  },
  {
   "cell_type": "code",
   "execution_count": 4,
   "id": "0ccb8516",
   "metadata": {},
   "outputs": [
    {
     "name": "stdout",
     "output_type": "stream",
     "text": [
      "Writing baib_t2.inp\n"
     ]
    }
   ],
   "source": [
    "%%writefile baib_t2.inp\n",
    "0"
   ]
  },
  {
   "cell_type": "code",
   "execution_count": 5,
   "id": "939e3337",
   "metadata": {},
   "outputs": [
    {
     "name": "stdout",
     "output_type": "stream",
     "text": [
      "Writing baib_t3.inp\n"
     ]
    }
   ],
   "source": [
    "%%writefile baib_t3.inp\n",
    "11"
   ]
  },
  {
   "cell_type": "code",
   "execution_count": 6,
   "id": "fc1f3db0",
   "metadata": {},
   "outputs": [
    {
     "name": "stdout",
     "output_type": "stream",
     "text": [
      "Writing baib_t4.inp\n"
     ]
    }
   ],
   "source": [
    "%%writefile baib_t4.inp\n",
    "3"
   ]
  },
  {
   "cell_type": "code",
   "execution_count": 7,
   "id": "d06a5fc8",
   "metadata": {},
   "outputs": [
    {
     "name": "stdout",
     "output_type": "stream",
     "text": [
      "Writing baib_t5.inp\n"
     ]
    }
   ],
   "source": [
    "%%writefile baib_t5.inp\n",
    "-4"
   ]
  },
  {
   "cell_type": "code",
   "execution_count": 8,
   "id": "5c582a6d",
   "metadata": {},
   "outputs": [
    {
     "name": "stdout",
     "output_type": "stream",
     "text": [
      "\"Expected: -10\"\n",
      "-10\n",
      "\"Expected: 0\"\n",
      "0\n",
      "\"Expected: 22\"\n",
      "22\n",
      "\"Expected: -3\"\n",
      "-3\n",
      "\"Expected: -8\"\n",
      "-8\n"
     ]
    }
   ],
   "source": [
    "!g++ Lab1_b.cpp -o Lab1_b\n",
    "!Lab1_b < baib_t1.inp > baib_t1.out\n",
    "!Lab1_b < baib_t2.inp > baib_t2.out\n",
    "!Lab1_b < baib_t3.inp > baib_t3.out\n",
    "!Lab1_b < baib_t4.inp > baib_t4.out\n",
    "!Lab1_b < baib_t5.inp > baib_t5.out\n",
    "!echo \"Expected: -10\"\n",
    "!type baib_t1.out\n",
    "!echo \"Expected: 0\"\n",
    "!type baib_t2.out\n",
    "!echo \"Expected: 22\"\n",
    "!type baib_t3.out\n",
    "!echo \"Expected: -3\"\n",
    "!type baib_t4.out\n",
    "!echo \"Expected: -8\"\n",
    "!type baib_t5.out"
   ]
  }
 ],
 "metadata": {
  "kernelspec": {
   "display_name": "Python 3",
   "language": "python",
   "name": "python3"
  },
  "language_info": {
   "codemirror_mode": {
    "name": "ipython",
    "version": 3
   },
   "file_extension": ".py",
   "mimetype": "text/x-python",
   "name": "python",
   "nbconvert_exporter": "python",
   "pygments_lexer": "ipython3",
   "version": "3.12.10"
  }
 },
 "nbformat": 4,
 "nbformat_minor": 5
}
