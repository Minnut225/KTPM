{
 "cells": [
  {
   "cell_type": "code",
   "execution_count": 7,
   "id": "2b69b267",
   "metadata": {},
   "outputs": [
    {
     "name": "stdout",
     "output_type": "stream",
     "text": [
      "Overwriting baid_t1.inp\n"
     ]
    }
   ],
   "source": [
    "%%writefile baid_t1.inp\n",
    "0"
   ]
  },
  {
   "cell_type": "code",
   "execution_count": 8,
   "id": "0e21dcad",
   "metadata": {},
   "outputs": [
    {
     "name": "stdout",
     "output_type": "stream",
     "text": [
      "Overwriting baid_t2.inp\n"
     ]
    }
   ],
   "source": [
    "%%writefile baid_t2.inp\n",
    "90"
   ]
  },
  {
   "cell_type": "code",
   "execution_count": 9,
   "id": "0e528643",
   "metadata": {},
   "outputs": [
    {
     "name": "stdout",
     "output_type": "stream",
     "text": [
      "\"Expected: 0\"\n",
      "0\n",
      "\"Expected: 180\"\n",
      "180\n"
     ]
    }
   ],
   "source": [
    "!g++ Lab1_d.cpp -o Lab1_d\n",
    "!Lab1_d < baid_t1.inp > baid_t1.out\n",
    "!Lab1_d < baid_t2.inp > baid_t2.out\n",
    "!echo \"Expected: 0\"\n",
    "!type baid_t1.out\n",
    "!echo \"Expected: 180\"\n",
    "!type baid_t2.out"
   ]
  }
 ],
 "metadata": {
  "kernelspec": {
   "display_name": "Python 3",
   "language": "python",
   "name": "python3"
  },
  "language_info": {
   "codemirror_mode": {
    "name": "ipython",
    "version": 3
   },
   "file_extension": ".py",
   "mimetype": "text/x-python",
   "name": "python",
   "nbconvert_exporter": "python",
   "pygments_lexer": "ipython3",
   "version": "3.12.10"
  }
 },
 "nbformat": 4,
 "nbformat_minor": 5
}
