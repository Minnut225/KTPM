{
 "cells": [
  {
   "cell_type": "code",
   "execution_count": 6,
   "id": "d03cf008",
   "metadata": {},
   "outputs": [
    {
     "name": "stdout",
     "output_type": "stream",
     "text": [
      "Overwriting baie_t1.inp\n"
     ]
    }
   ],
   "source": [
    "%%writefile baie_t1.inp\n",
    "2 3 5"
   ]
  },
  {
   "cell_type": "code",
   "execution_count": 7,
   "id": "3c17123b",
   "metadata": {},
   "outputs": [
    {
     "name": "stdout",
     "output_type": "stream",
     "text": [
      "Overwriting baie_t2.inp\n"
     ]
    }
   ],
   "source": [
    "%%writefile baie_t2.inp\n",
    "3 3 3"
   ]
  },
  {
   "cell_type": "code",
   "execution_count": 8,
   "id": "d60154a0",
   "metadata": {},
   "outputs": [
    {
     "name": "stdout",
     "output_type": "stream",
     "text": [
      "Writing baie_t3.inp\n"
     ]
    }
   ],
   "source": [
    "%%writefile baie_t3.inp\n",
    "-2 3 5"
   ]
  },
  {
   "cell_type": "code",
   "execution_count": 9,
   "id": "f1831862",
   "metadata": {},
   "outputs": [
    {
     "name": "stdout",
     "output_type": "stream",
     "text": [
      "Writing baie_t4.inp\n"
     ]
    }
   ],
   "source": [
    "%%writefile baie_t4.inp\n",
    "1 -4 1"
   ]
  },
  {
   "cell_type": "code",
   "execution_count": 10,
   "id": "99bf4b12",
   "metadata": {},
   "outputs": [
    {
     "name": "stdout",
     "output_type": "stream",
     "text": [
      "Writing baie_t5.inp\n"
     ]
    }
   ],
   "source": [
    "%%writefile baie_t5.inp\n",
    "1 3 0"
   ]
  },
  {
   "cell_type": "code",
   "execution_count": 11,
   "id": "ba4f0668",
   "metadata": {},
   "outputs": [
    {
     "name": "stdout",
     "output_type": "stream",
     "text": [
      "Writing baie_t6.inp\n"
     ]
    }
   ],
   "source": [
    "%%writefile baie_t6.inp\n",
    "-5 -2 -7"
   ]
  },
  {
   "cell_type": "code",
   "execution_count": 12,
   "id": "afafbd10",
   "metadata": {},
   "outputs": [
    {
     "name": "stdout",
     "output_type": "stream",
     "text": [
      "Writing baie_t7.inp\n"
     ]
    }
   ],
   "source": [
    "%%writefile baie_t7.inp\n",
    "5 5 1"
   ]
  },
  {
   "cell_type": "code",
   "execution_count": 13,
   "id": "890aa432",
   "metadata": {},
   "outputs": [
    {
     "name": "stdout",
     "output_type": "stream",
     "text": [
      "Writing baie_t8.inp\n"
     ]
    }
   ],
   "source": [
    "%%writefile baie_t8.inp\n",
    "-2 5 -3"
   ]
  },
  {
   "cell_type": "code",
   "execution_count": 14,
   "id": "3bc6dcbd",
   "metadata": {},
   "outputs": [
    {
     "name": "stdout",
     "output_type": "stream",
     "text": [
      "Writing baie_t9.inp\n"
     ]
    }
   ],
   "source": [
    "%%writefile baie_t9.inp\n",
    "4 -3 -3"
   ]
  },
  {
   "cell_type": "code",
   "execution_count": 15,
   "id": "5902b2f1",
   "metadata": {},
   "outputs": [
    {
     "name": "stdout",
     "output_type": "stream",
     "text": [
      "\"Expected: 5\"\n",
      "5\n",
      "\"Expected: 3\"\n",
      "0\n",
      "\"Expected: 5\"\n",
      "5\n",
      "\"Expected: 1\"\n",
      "0\n",
      "\"Expected: 3\"\n",
      "3\n",
      "\"Expected: -2\"\n",
      "-2\n",
      "\"Expected: 5\"\n",
      "0\n",
      "\"Expected: 5\"\n",
      "5\n",
      "\"Expected: 4\"\n",
      "4\n"
     ]
    }
   ],
   "source": [
    "!g++ Lab1_e.cpp -o baie\n",
    "!baie <baie_t1.inp >out1.txt\n",
    "!echo \"Expected: 5\"\n",
    "!type out1.txt\n",
    "!echo \"Expected: 3\"\n",
    "!baie <baie_t2.inp >out2.txt\n",
    "!type out2.txt\n",
    "!echo \"Expected: 5\"\n",
    "!baie <baie_t3.inp >out3.txt\n",
    "!type out3.txt\n",
    "!echo \"Expected: 1\"\n",
    "!baie <baie_t4.inp >out4.txt\n",
    "!type out4.txt\n",
    "!echo \"Expected: 3\"\n",
    "!baie <baie_t5.inp >out5.txt\n",
    "!type out5.txt\n",
    "!echo \"Expected: -2\"\n",
    "!baie <baie_t6.inp >out6.txt\n",
    "!type out6.txt\n",
    "!echo \"Expected: 5\"\n",
    "!baie <baie_t7.inp >out7.txt\n",
    "!type out7.txt\n",
    "!echo \"Expected: 5\"\n",
    "!baie <baie_t8.inp >out8.txt\n",
    "!type out8.txt\n",
    "!echo \"Expected: 4\"\n",
    "!baie <baie_t9.inp >out9.txt\n",
    "!type out9.txt"
   ]
  }
 ],
 "metadata": {
  "kernelspec": {
   "display_name": "Python 3",
   "language": "python",
   "name": "python3"
  },
  "language_info": {
   "codemirror_mode": {
    "name": "ipython",
    "version": 3
   },
   "file_extension": ".py",
   "mimetype": "text/x-python",
   "name": "python",
   "nbconvert_exporter": "python",
   "pygments_lexer": "ipython3",
   "version": "3.12.10"
  }
 },
 "nbformat": 4,
 "nbformat_minor": 5
}
