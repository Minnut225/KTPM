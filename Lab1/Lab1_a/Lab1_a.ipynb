{
 "cells": [
  {
   "cell_type": "code",
   "execution_count": 1,
   "id": "ba7b7196",
   "metadata": {},
   "outputs": [
    {
     "name": "stdout",
     "output_type": "stream",
     "text": [
      "Writing baia_t1.inp\n"
     ]
    }
   ],
   "source": [
    "%%writefile baia_t1.inp\n",
    "15"
   ]
  },
  {
   "cell_type": "code",
   "execution_count": 2,
   "id": "59fc83c5",
   "metadata": {},
   "outputs": [
    {
     "name": "stdout",
     "output_type": "stream",
     "text": [
      "Writing baia_t2.inp\n"
     ]
    }
   ],
   "source": [
    "%%writefile baia_t2.inp\n",
    "10"
   ]
  },
  {
   "cell_type": "code",
   "execution_count": 3,
   "id": "1b0a4c3e",
   "metadata": {},
   "outputs": [
    {
     "name": "stdout",
     "output_type": "stream",
     "text": [
      "Writing baia_t3.inp\n"
     ]
    }
   ],
   "source": [
    "%%writefile baia_t3.inp\n",
    "4"
   ]
  },
  {
   "cell_type": "code",
   "execution_count": 4,
   "id": "b5f8dcad",
   "metadata": {},
   "outputs": [
    {
     "name": "stdout",
     "output_type": "stream",
     "text": [
      "Writing baia_t4.inp\n"
     ]
    }
   ],
   "source": [
    "%%writefile baia_t4.inp\n",
    "-3"
   ]
  },
  {
   "cell_type": "code",
   "execution_count": 5,
   "id": "d015fbcc",
   "metadata": {},
   "outputs": [
    {
     "name": "stdout",
     "output_type": "stream",
     "text": [
      "\"Expected: 30\"\n",
      "30\n",
      "\"Expected: -10\"\n",
      "-10\n",
      "\"Expected: -4\"\n",
      "-4\n",
      "\"Expected: 3\"\n",
      "3\n"
     ]
    }
   ],
   "source": [
    "!g++ Lab1_a.cpp -o baia\n",
    "!baia < baia_t1.inp > out1.txt\n",
    "!baia < baia_t2.inp > out2.txt\n",
    "!baia < baia_t3.inp > out3.txt\n",
    "!baia < baia_t4.inp > out4.txt\n",
    "!echo \"Expected: 30\"\n",
    "!type out1.txt\n",
    "!echo \"Expected: -10\"\n",
    "!type out2.txt\n",
    "!echo \"Expected: -4\"\n",
    "!type out3.txt\n",
    "!echo \"Expected: 3\"\n",
    "!type out4.txt"
   ]
  }
 ],
 "metadata": {
  "kernelspec": {
   "display_name": "Python 3",
   "language": "python",
   "name": "python3"
  },
  "language_info": {
   "codemirror_mode": {
    "name": "ipython",
    "version": 3
   },
   "file_extension": ".py",
   "mimetype": "text/x-python",
   "name": "python",
   "nbconvert_exporter": "python",
   "pygments_lexer": "ipython3",
   "version": "3.12.10"
  }
 },
 "nbformat": 4,
 "nbformat_minor": 5
}
